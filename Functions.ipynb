{
  "nbformat": 4,
  "nbformat_minor": 0,
  "metadata": {
    "colab": {
      "provenance": []
    },
    "kernelspec": {
      "name": "python3",
      "display_name": "Python 3"
    },
    "language_info": {
      "name": "python"
    }
  },
  "cells": [
    {
      "cell_type": "markdown",
      "source": [
        "**FUNCTION THEORY QUESTIONS**"
      ],
      "metadata": {
        "id": "_KVtdKi1Qyg6"
      }
    },
    {
      "cell_type": "markdown",
      "source": [
        "\n",
        "1. What is the difference between a Function and a Method in Python?\n",
        "\n",
        "A. A function is a block of reusable code that is defined using the def keyword and can be called independently. A method is a function that is associated with an object and is called using dot notation (e.g., object.method()).\n",
        "\n",
        "2. Explain the concept of function arguments and parameters in Python.\n",
        "\n",
        "A. Parameters are variables listed in a function definition, while arguments are values passed to a function when calling it.\n",
        "\n",
        "3. What are the different ways to define and call a function in Python?\n",
        "\n",
        "A. A function can be defined using def function_name(): and called using function_name(). Functions can also be defined using lambda for short, anonymous functions.\n",
        "\n",
        "4. What is the purpose of the return statement in a Python function?\n",
        "\n",
        "A. The return statement exits a function and sends back a value to the caller.\n",
        "\n",
        "5. What are iterators in Python and how do they differ from iterables?\n",
        "\n",
        "A. An iterable is an object that can return an iterator (e.g., lists, tuples). An iterator is an object with __iter__() and __next__() methods, allowing iteration over elements one by one.\n",
        "\n",
        "6. Explain the concept of generators in Python and how they are defined.\n",
        "\n",
        "A. Generators are functions that yield values one at a time using the yield keyword, maintaining their state between calls.\n",
        "\n",
        "7. What are the advantages of using generators over regular functions?\n",
        "\n",
        "A. Generators save memory, improve performance, and support lazy evaluation as they generate values only when needed.\n",
        "\n",
        "8. What is a lambda function in Python and when is it typically used?\n",
        "\n",
        "A. A lambda function is an anonymous function defined using lambda keyword. It is used for small, one-time operations, often inside higher-order functions.\n",
        "\n",
        "9. Explain the purpose and usage of the map() function in Python.\n",
        "\n",
        "A. The map() function applies a given function to all items in an iterable and returns a map object.\n",
        "\n",
        "10. What is the difference between map(), reduce(), and filter() functions in Python?\n",
        "\n",
        "A.\n",
        "\n",
        "map(): Applies a function to each item in an iterable.\n",
        "\n",
        "reduce(): Applies a function cumulatively, reducing an iterable to a single value.\n",
        "\n",
        "filter(): Filters elements based on a given condition.\n",
        "\n",
        "11. Using pen & paper, write the internal mechanism for sum operation using reduce() function on this given list: [47,11,42,13]\n",
        "A. The reduce() function applies a binary function cumulatively:\n",
        "\n",
        "Step 1: 47 + 11 = 58\n",
        "\n",
        "Step 2: 58 + 42 = 100\n",
        "\n",
        "Step 3: 100 + 13 = 113\n",
        "\n",
        "Final Output: 113\n"
      ],
      "metadata": {
        "id": "hkKnLCxEJV-P"
      }
    },
    {
      "cell_type": "markdown",
      "source": [
        "**FUNCTIONS PRACTICAL QUESTIONS**"
      ],
      "metadata": {
        "id": "ypz7n5eJJdS_"
      }
    },
    {
      "cell_type": "code",
      "source": [
        "# Question: Write a Python function that takes a list of numbers as input\n",
        "# and returns the sum of all even numbers in the list.\n",
        "\n",
        "def sum_of_evens(lst):\n",
        "    return sum(num for num in lst if num % 2 == 0)\n",
        "\n",
        "print(sum_of_evens([1, 2, 3, 4, 5, 6]))  # Output: 12\n"
      ],
      "metadata": {
        "colab": {
          "base_uri": "https://localhost:8080/"
        },
        "id": "F6KfbAwxRHw5",
        "outputId": "86ed1c81-21eb-4f4f-abfc-06d0985e4964"
      },
      "execution_count": 1,
      "outputs": [
        {
          "output_type": "stream",
          "name": "stdout",
          "text": [
            "12\n"
          ]
        }
      ]
    },
    {
      "cell_type": "code",
      "source": [
        "# Question: Create a Python function that accepts a string\n",
        "# and returns the reverse of that string.\n",
        "\n",
        "def reverse_string(s):\n",
        "    return s[::-1]\n",
        "\n",
        "print(reverse_string(\"hello\"))  # Output: \"olleh\"\n"
      ],
      "metadata": {
        "colab": {
          "base_uri": "https://localhost:8080/"
        },
        "id": "fAlos0fgTQRE",
        "outputId": "2afb0d1b-f986-418d-a7f0-7e6f4046c197"
      },
      "execution_count": 2,
      "outputs": [
        {
          "output_type": "stream",
          "name": "stdout",
          "text": [
            "olleh\n"
          ]
        }
      ]
    },
    {
      "cell_type": "code",
      "source": [
        "# Question: Implement a Python function that takes a list of integers\n",
        "# and returns a new list containing the squares of each number.\n",
        "\n",
        "def square_numbers(lst):\n",
        "    return [num ** 2 for num in lst]\n",
        "\n",
        "print(square_numbers([1, 2, 3, 4]))  # Output: [1, 4, 9, 16]\n"
      ],
      "metadata": {
        "colab": {
          "base_uri": "https://localhost:8080/"
        },
        "id": "4QxzTDxATQON",
        "outputId": "ff69178a-ef38-466b-eb9a-f7c96f1be599"
      },
      "execution_count": 3,
      "outputs": [
        {
          "output_type": "stream",
          "name": "stdout",
          "text": [
            "[1, 4, 9, 16]\n"
          ]
        }
      ]
    },
    {
      "cell_type": "code",
      "source": [
        "# Question: Write a Python function that checks if a given number is prime or not from 1 to 200.\n",
        "\n",
        "def is_prime(n):\n",
        "    if n < 2:\n",
        "        return False\n",
        "    for i in range(2, int(n ** 0.5) + 1):\n",
        "        if n % i == 0:\n",
        "            return False\n",
        "    return True\n",
        "\n",
        "primes = [n for n in range(1, 201) if is_prime(n)]\n",
        "print(primes)\n"
      ],
      "metadata": {
        "colab": {
          "base_uri": "https://localhost:8080/"
        },
        "id": "Qcas--eNTQLL",
        "outputId": "4a6c1a03-b800-4eff-a225-097a07d701bc"
      },
      "execution_count": 4,
      "outputs": [
        {
          "output_type": "stream",
          "name": "stdout",
          "text": [
            "[2, 3, 5, 7, 11, 13, 17, 19, 23, 29, 31, 37, 41, 43, 47, 53, 59, 61, 67, 71, 73, 79, 83, 89, 97, 101, 103, 107, 109, 113, 127, 131, 137, 139, 149, 151, 157, 163, 167, 173, 179, 181, 191, 193, 197, 199]\n"
          ]
        }
      ]
    },
    {
      "cell_type": "code",
      "source": [
        "# Question: Create an iterator class in Python that generates the Fibonacci sequence up to a specified number of terms.\n",
        "\n",
        "class Fibonacci:\n",
        "    def __init__(self, terms):\n",
        "        self.terms = terms\n",
        "        self.a, self.b = 0, 1\n",
        "        self.count = 0\n",
        "\n",
        "    def __iter__(self):\n",
        "        return self\n",
        "\n",
        "    def __next__(self):\n",
        "        if self.count >= self.terms:\n",
        "            raise StopIteration\n",
        "        val = self.a\n",
        "        self.a, self.b = self.b, self.a + self.b\n",
        "        self.count += 1\n",
        "        return val\n",
        "\n",
        "fib = Fibonacci(10)\n",
        "print(list(fib))\n"
      ],
      "metadata": {
        "colab": {
          "base_uri": "https://localhost:8080/"
        },
        "id": "mNsV9sajTQHs",
        "outputId": "830ae922-99fa-4d75-8d3e-c1d27ef50357"
      },
      "execution_count": 5,
      "outputs": [
        {
          "output_type": "stream",
          "name": "stdout",
          "text": [
            "[0, 1, 1, 2, 3, 5, 8, 13, 21, 34]\n"
          ]
        }
      ]
    },
    {
      "cell_type": "code",
      "source": [
        "# Question: Write a generator function in Python that yields the powers of 2 up to a given exponent.\n",
        "\n",
        "def powers_of_2(exponent):\n",
        "    for i in range(exponent + 1):\n",
        "        yield 2 ** i\n",
        "\n",
        "print(list(powers_of_2(5)))  # Output: [1, 2, 4, 8, 16, 32]\n"
      ],
      "metadata": {
        "colab": {
          "base_uri": "https://localhost:8080/"
        },
        "id": "7OqoHkPwTQEe",
        "outputId": "ea64c54b-631e-4d55-b343-820509e9445e"
      },
      "execution_count": 6,
      "outputs": [
        {
          "output_type": "stream",
          "name": "stdout",
          "text": [
            "[1, 2, 4, 8, 16, 32]\n"
          ]
        }
      ]
    },
    {
      "cell_type": "code",
      "source": [
        "# Question: Implement a generator function that reads a file line by line and yields each line as a string.\n",
        "\n",
        "def read_file_line_by_line(filename):\n",
        "    with open(filename, 'r') as file:\n",
        "        for line in file:\n",
        "            yield line.strip()\n",
        "\n",
        "# Usage\n",
        "# for line in read_file_line_by_line(\"sample.txt\"):\n",
        "#     print(line)\n"
      ],
      "metadata": {
        "id": "z0vctajLTQBT"
      },
      "execution_count": 10,
      "outputs": []
    },
    {
      "cell_type": "code",
      "source": [
        "# Question: Use a lambda function in Python to sort a list of tuples based on the second element of each tuple.\n",
        "\n",
        "tuples_list = [(1, 3), (4, 2), (2, 5), (3, 1)]\n",
        "sorted_list = sorted(tuples_list, key=lambda x: x[1])\n",
        "print(sorted_list)  # Output: [(3, 1), (4, 2), (1, 3), (2, 5)]\n"
      ],
      "metadata": {
        "colab": {
          "base_uri": "https://localhost:8080/"
        },
        "id": "fHjqd2tlTP8m",
        "outputId": "ce7f60cf-e53a-4f34-a293-c0813bb9e107"
      },
      "execution_count": 11,
      "outputs": [
        {
          "output_type": "stream",
          "name": "stdout",
          "text": [
            "[(3, 1), (4, 2), (1, 3), (2, 5)]\n"
          ]
        }
      ]
    },
    {
      "cell_type": "code",
      "source": [
        "# Question: Write a Python program that uses `map()` to convert a list of temperatures from Celsius to Fahrenheit.\n",
        "\n",
        "celsius = [0, 10, 20, 30, 40]\n",
        "fahrenheit = list(map(lambda c: (c * 9/5) + 32, celsius))\n",
        "print(fahrenheit)  # Output: [32.0, 50.0, 68.0, 86.0, 104.0]\n"
      ],
      "metadata": {
        "colab": {
          "base_uri": "https://localhost:8080/"
        },
        "id": "sJbORunITP6W",
        "outputId": "972f5fd9-f680-41bf-ee1f-0cbcd8e531a4"
      },
      "execution_count": 12,
      "outputs": [
        {
          "output_type": "stream",
          "name": "stdout",
          "text": [
            "[32.0, 50.0, 68.0, 86.0, 104.0]\n"
          ]
        }
      ]
    },
    {
      "cell_type": "code",
      "source": [
        "# Question: Create a Python program that uses `filter()` to remove all the vowels from a given string.\n",
        "\n",
        "def remove_vowels(s):\n",
        "    return \"\".join(filter(lambda ch: ch.lower() not in \"aeiou\", s))\n",
        "\n",
        "print(remove_vowels(\"hello world\"))  # Output: \"hll wrld\"\n"
      ],
      "metadata": {
        "colab": {
          "base_uri": "https://localhost:8080/"
        },
        "id": "rMJ8cDfQTP3y",
        "outputId": "a03a6c46-7a0f-4732-c3d0-ba45254b17a3"
      },
      "execution_count": 13,
      "outputs": [
        {
          "output_type": "stream",
          "name": "stdout",
          "text": [
            "hll wrld\n"
          ]
        }
      ]
    },
    {
      "cell_type": "code",
      "source": [
        "# Question: Imagine an accounting routine used in a book shop. It works on a list with sublists,\n",
        "# which contain order number, book title, quantity, and price per item.\n",
        "# Write a Python program that returns a list with 2-tuples.\n",
        "# Each tuple consists of the order number and the total price.\n",
        "# If the total price is below 100, add 10 extra to it.\n",
        "# Use `lambda` and `map()` functions.\n",
        "\n",
        "orders = [\n",
        "    (34587, \"Learning Python, Mark Lutz\", 4, 40.95),\n",
        "    (98762, \"Programming Python, Mark Lutz\", 5, 56.80),\n",
        "    (77226, \"Head First Python, Paul Barry\", 3, 32.95),\n",
        "    (88112, \"Einführung in Python3, Bernd Klein\", 3, 24.99)\n",
        "]\n",
        "\n",
        "# Using lambda and map to calculate order cost\n",
        "order_totals = list(map(lambda order: (order[0], order[2] * order[3] + (10 if order[2] * order[3] < 100 else 0)), orders))\n",
        "\n",
        "print(order_totals)\n"
      ],
      "metadata": {
        "colab": {
          "base_uri": "https://localhost:8080/"
        },
        "id": "2BkyyhLTTPzy",
        "outputId": "31f670fc-26df-4de7-f31c-5fba8edde354"
      },
      "execution_count": 14,
      "outputs": [
        {
          "output_type": "stream",
          "name": "stdout",
          "text": [
            "[(34587, 163.8), (98762, 284.0), (77226, 108.85000000000001), (88112, 84.97)]\n"
          ]
        }
      ]
    }
  ]
}